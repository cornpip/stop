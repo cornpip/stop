{
  "nbformat": 4,
  "nbformat_minor": 0,
  "metadata": {
    "colab": {
      "name": "pkl.ipynb",
      "provenance": [],
      "collapsed_sections": [],
      "authorship_tag": "ABX9TyN6/ipF91kEYNIYaXPL5DkF",
      "include_colab_link": true
    },
    "kernelspec": {
      "name": "python3",
      "display_name": "Python 3"
    },
    "language_info": {
      "name": "python"
    }
  },
  "cells": [
    {
      "cell_type": "markdown",
      "metadata": {
        "id": "view-in-github",
        "colab_type": "text"
      },
      "source": [
        "<a href=\"https://colab.research.google.com/github/cornpip/stop/blob/main/pkl.ipynb\" target=\"_parent\"><img src=\"https://colab.research.google.com/assets/colab-badge.svg\" alt=\"Open In Colab\"/></a>"
      ]
    },
    {
      "cell_type": "code",
      "execution_count": null,
      "metadata": {
        "id": "-f9iWlSvtRTK"
      },
      "outputs": [],
      "source": [
        "import os.path as osp\n",
        "import pickle\n",
        "vid = \"./test/S001C001P001R001A001_rgb.avi.mp4\"\n",
        "# a = osp.basename(vid).split('A') #['S001C001P001R001', '001_rgb.avi.mp4']\n",
        "c = osp.splitext(osp.basename(vid))\n",
        "print(c)\n",
        "# #[1][:3] => 001\n",
        "# print(a)\n",
        "\n",
        "pkl_l = [\"rockA001.pkl\",\"scissorA002.pkl\",\"paperA003.pkl\"]\n",
        "data_list = []\n",
        "for i in range(3):\n",
        "    with open(pkl_l[i],\"rb\") as fr:\n",
        "        while True:\n",
        "            try:\n",
        "                data = pickle.load(fr)\n",
        "            except EOFError:\n",
        "                break\n",
        "            data_list.append(data)\n",
        "# print(data_list)\n",
        "# print(len(data_list))\n",
        "# print(data_list[0])\n",
        "\n",
        "# with open('custom_dataset_train.pkl', 'wb') as f:\n",
        "#     pickle.dump(data_list, f)\n",
        "\n",
        "# result_data = []\n",
        "# with open('custom_dataset_train.pkl',\"rb\") as fr:\n",
        "#     while True:\n",
        "#         try:\n",
        "#             data = pickle.load(fr)\n",
        "#         except EOFError:\n",
        "#             break\n",
        "#         result_data.append(data)\n",
        "\n",
        "# print(result_data)"
      ]
    },
    {
      "cell_type": "code",
      "source": [
        "import pickle\n",
        "\n",
        "pkl = \"ntu_xsub_train.pkl\"\n",
        "pkl2 = \"custom_dataset_train.pkl\"\n",
        "pkl3 = \"ntu60_xsub_val.pkl\"\n",
        "pkl4 = \"rockA001.pkl\"\n",
        "pkl5 = \"t_scissorA002.pkl\"\n",
        "data_list = []\n",
        "with open(pkl, \"rb\") as fr:\n",
        "    while True:\n",
        "        try:\n",
        "            print(\"1\")\n",
        "            data = pickle.load(fr)\n",
        "            print(\"2\")\n",
        "        except EOFError:\n",
        "            break\n",
        "        print(\"3\")\n",
        "        data_list.append(data)\n",
        "# print(data_list[0])\n",
        "# data_list[0][\"label\"] = int(0)\n",
        "# data_list[0][\"frame_dir\"] = 'rockA001_rgb'\n",
        "print(data_list[0][:10])\n",
        "\n",
        "# with open('t_scissorA002.pkl', 'wb') as f:\n",
        "#     pickle.dump(data_list[0], f)"
      ],
      "metadata": {
        "id": "6b6oCportWHw"
      },
      "execution_count": null,
      "outputs": []
    }
  ]
}